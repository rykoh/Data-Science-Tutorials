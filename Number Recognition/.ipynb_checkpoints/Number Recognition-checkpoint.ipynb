{
 "cells": [
  {
   "cell_type": "code",
   "execution_count": 14,
   "metadata": {},
   "outputs": [],
   "source": [
    "# https://towardsdatascience.com/deploying-a-simple-machine-learning-model-into-a-webapp-using-tensorflow-js-3609c297fb04"
   ]
  },
  {
   "cell_type": "code",
   "execution_count": 15,
   "metadata": {},
   "outputs": [],
   "source": [
    "# Training Data"
   ]
  },
  {
   "cell_type": "code",
   "execution_count": 16,
   "metadata": {},
   "outputs": [],
   "source": [
    "# We are going to use the MNIST dataset, which is a dataset of handwritten digits."
   ]
  },
  {
   "cell_type": "code",
   "execution_count": 17,
   "metadata": {},
   "outputs": [],
   "source": [
    "# In this dataset, you have 60,000 images, all of them are of size 28 x 28 pixels in grayscale, with pixel values from 0 to 255."
   ]
  },
  {
   "cell_type": "code",
   "execution_count": 27,
   "metadata": {},
   "outputs": [],
   "source": [
    "from tensorflow import keras\n",
    "import numpy as np\n",
    "from tensorflow.keras.datasets import mnist\n",
    "import matplotlib.pyplot as plt"
   ]
  },
  {
   "cell_type": "code",
   "execution_count": 28,
   "metadata": {},
   "outputs": [
    {
     "name": "stdout",
     "output_type": "stream",
     "text": [
      "Downloading data from https://storage.googleapis.com/tensorflow/tf-keras-datasets/mnist.npz\n",
      "11493376/11490434 [==============================] - 28s 2us/step\n",
      "X_train.shape: (60000, 28, 28)\n",
      "y_train.shape: (60000,)\n",
      "X_test.shape: (10000, 28, 28)\n",
      "y_test.shape: (10000,)\n"
     ]
    }
   ],
   "source": [
    "(X_train, y_train), (X_test, y_test) = mnist.load_data()\n",
    "print (\"X_train.shape: {}\".format(X_train.shape))\n",
    "print (\"y_train.shape: {}\".format(y_train.shape))\n",
    "print (\"X_test.shape: {}\".format(X_test.shape))\n",
    "print (\"y_test.shape: {}\".format(y_test.shape))"
   ]
  },
  {
   "cell_type": "code",
   "execution_count": 31,
   "metadata": {},
   "outputs": [
    {
     "data": {
      "image/png": "[encoded data removed]",
      "text/plain": [
       "<Figure size 432x288 with 6 Axes>"
      ]
     },
     "metadata": {
      "needs_background": "light"
     },
     "output_type": "display_data"
    }
   ],
   "source": [
    "plt.subplot(161)\n",
    "plt.imshow(X_train[3], cmap=plt.get_cmap('gray'))\n",
    "plt.subplot(162)\n",
    "plt.imshow(X_train[5], cmap=plt.get_cmap('gray'))\n",
    "plt.subplot(163)\n",
    "plt.imshow(X_train[7], cmap=plt.get_cmap('gray'))\n",
    "plt.subplot(164)\n",
    "plt.imshow(X_train[2], cmap=plt.get_cmap('gray'))\n",
    "plt.subplot(165)\n",
    "plt.imshow(X_train[0], cmap=plt.get_cmap('gray'))\n",
    "plt.subplot(166)\n",
    "plt.imshow(X_train[13], cmap=plt.get_cmap('gray'));"
   ]
  },
  {
   "cell_type": "code",
   "execution_count": 3,
   "metadata": {},
   "outputs": [],
   "source": [
    "# Training Environment - Google Colab?"
   ]
  },
  {
   "cell_type": "code",
   "execution_count": 32,
   "metadata": {},
   "outputs": [],
   "source": [
    "# Pre-Processing Data"
   ]
  },
  {
   "cell_type": "code",
   "execution_count": 34,
   "metadata": {},
   "outputs": [],
   "source": [
    "# Normalize inputs: The data comes with values from 0 to 255, we should normalize them to a scale from 0 to 1."
   ]
  },
  {
   "cell_type": "code",
   "execution_count": 36,
   "metadata": {},
   "outputs": [
    {
     "name": "stderr",
     "output_type": "stream",
     "text": [
      "Using TensorFlow backend.\n"
     ]
    }
   ],
   "source": [
    "from tensorflow.keras.models import Sequential\n",
    "from tensorflow.keras.layers import Dense\n",
    "from tensorflow.keras.layers import Dropout\n",
    "from tensorflow.keras.layers import Conv2D\n",
    "from tensorflow.keras.layers import MaxPooling2D\n",
    "from tensorflow.keras.layers import Dropout\n",
    "from tensorflow.keras.layers import Flatten\n",
    "from keras.utils import np_utils"
   ]
  },
  {
   "cell_type": "code",
   "execution_count": 39,
   "metadata": {},
   "outputs": [],
   "source": [
    "# Normalize Inputs from 0–255 to 0–1\n",
    "X_train = X_train / 255\n",
    "X_test = X_test / 255"
   ]
  },
  {
   "cell_type": "code",
   "execution_count": 40,
   "metadata": {},
   "outputs": [],
   "source": [
    "# one hot encode outputs\n",
    "y_train = np_utils.to_categorical(y_train)\n",
    "y_test = np_utils.to_categorical(y_test)\n",
    "num_classes = y_test.shape[1]"
   ]
  },
  {
   "cell_type": "code",
   "execution_count": 41,
   "metadata": {},
   "outputs": [],
   "source": [
    "# flatten 28*28 images to a 784 vector for each image\n",
    "num_pixels = X_train.shape[1] * X_train.shape[2]\n",
    "# X_train = X_train.reshape(X_train.shape[0], num_pixels).astype('float32')\n",
    "# X_test = X_test.reshape(X_test.shape[0], num_pixels).astype('float32')\n",
    "X_train = X_train.reshape((X_train.shape[0], 28, 28, 1)).astype('float32')\n",
    "X_test = X_test.reshape((X_test.shape[0], 28, 28, 1)).astype('float32')"
   ]
  },
  {
   "cell_type": "code",
   "execution_count": 42,
   "metadata": {},
   "outputs": [],
   "source": [
    "# Machine Learning"
   ]
  },
  {
   "cell_type": "code",
   "execution_count": 43,
   "metadata": {},
   "outputs": [],
   "source": [
    "# https://keras.io/getting-started/sequential-model-guide/\n",
    "model = Sequential()"
   ]
  },
  {
   "cell_type": "code",
   "execution_count": 44,
   "metadata": {},
   "outputs": [],
   "source": [
    "# model.add(Dense(num_pixels, input_dim=num_pixels, activation='relu'))\n",
    "# model.add(Dense(num_classes, activation='softmax'))\n",
    "\n",
    "model.add(Conv2D(30, (5, 5), input_shape=(28, 28, 1), activation='relu'))\n",
    "model.add(MaxPooling2D())\n",
    "model.add(Conv2D(15, (3, 3), activation='relu'))\n",
    "model.add(MaxPooling2D())\n",
    "model.add(Dropout(0.2))\n",
    "model.add(Flatten())\n",
    "model.add(Dense(128, activation='relu'))\n",
    "model.add(Dense(50, activation='relu'))\n",
    "model.add(Dense(num_classes, activation='softmax'))"
   ]
  },
  {
   "cell_type": "code",
   "execution_count": 45,
   "metadata": {},
   "outputs": [],
   "source": [
    "model.compile(loss='categorical_crossentropy', optimizer='adam', metrics=['accuracy'])"
   ]
  },
  {
   "cell_type": "code",
   "execution_count": 46,
   "metadata": {},
   "outputs": [
    {
     "name": "stdout",
     "output_type": "stream",
     "text": [
      "Train on 60000 samples, validate on 10000 samples\n",
      "Epoch 1/30\n",
      "60000/60000 - 21s - loss: 1.4366 - accuracy: 0.5026 - val_loss: 111.5908 - val_accuracy: 0.6285\n",
      "Epoch 2/30\n",
      "60000/60000 - 22s - loss: 0.5047 - accuracy: 0.8416 - val_loss: 63.3600 - val_accuracy: 0.7992\n",
      "Epoch 3/30\n",
      "60000/60000 - 21s - loss: 0.3411 - accuracy: 0.8936 - val_loss: 35.6209 - val_accuracy: 0.8877\n",
      "Epoch 4/30\n",
      "60000/60000 - 21s - loss: 0.2527 - accuracy: 0.9217 - val_loss: 28.8390 - val_accuracy: 0.9063\n",
      "Epoch 5/30\n",
      "60000/60000 - 22s - loss: 0.2058 - accuracy: 0.9369 - val_loss: 20.5749 - val_accuracy: 0.9313\n",
      "Epoch 6/30\n",
      "60000/60000 - 24s - loss: 0.1750 - accuracy: 0.9451 - val_loss: 16.8913 - val_accuracy: 0.9444\n",
      "Epoch 7/30\n",
      "60000/60000 - 22s - loss: 0.1512 - accuracy: 0.9532 - val_loss: 17.9260 - val_accuracy: 0.9404\n",
      "Epoch 8/30\n",
      "60000/60000 - 22s - loss: 0.1355 - accuracy: 0.9575 - val_loss: 15.4813 - val_accuracy: 0.9520\n",
      "Epoch 9/30\n",
      "60000/60000 - 23s - loss: 0.1223 - accuracy: 0.9612 - val_loss: 17.3844 - val_accuracy: 0.9453\n",
      "Epoch 10/30\n",
      "60000/60000 - 23s - loss: 0.1145 - accuracy: 0.9644 - val_loss: 15.6036 - val_accuracy: 0.9523\n",
      "Epoch 11/30\n",
      "60000/60000 - 19s - loss: 0.1056 - accuracy: 0.9664 - val_loss: 15.5059 - val_accuracy: 0.9519\n",
      "Epoch 12/30\n",
      "60000/60000 - 20s - loss: 0.0977 - accuracy: 0.9692 - val_loss: 11.1154 - val_accuracy: 0.9655\n",
      "Epoch 13/30\n",
      "60000/60000 - 20s - loss: 0.0931 - accuracy: 0.9709 - val_loss: 11.8017 - val_accuracy: 0.9629\n",
      "Epoch 14/30\n",
      "60000/60000 - 20s - loss: 0.0882 - accuracy: 0.9728 - val_loss: 9.7062 - val_accuracy: 0.9687\n",
      "Epoch 15/30\n",
      "60000/60000 - 19s - loss: 0.0812 - accuracy: 0.9744 - val_loss: 11.6600 - val_accuracy: 0.9668\n",
      "Epoch 16/30\n",
      "60000/60000 - 19s - loss: 0.0768 - accuracy: 0.9756 - val_loss: 11.8251 - val_accuracy: 0.9657\n",
      "Epoch 17/30\n",
      "60000/60000 - 19s - loss: 0.0761 - accuracy: 0.9758 - val_loss: 11.6285 - val_accuracy: 0.9669\n",
      "Epoch 18/30\n",
      "60000/60000 - 19s - loss: 0.0714 - accuracy: 0.9778 - val_loss: 10.7512 - val_accuracy: 0.9680\n",
      "Epoch 19/30\n",
      "60000/60000 - 19s - loss: 0.0682 - accuracy: 0.9779 - val_loss: 10.4513 - val_accuracy: 0.9714\n",
      "Epoch 20/30\n",
      "60000/60000 - 19s - loss: 0.0666 - accuracy: 0.9786 - val_loss: 9.4413 - val_accuracy: 0.9736\n",
      "Epoch 21/30\n",
      "60000/60000 - 19s - loss: 0.0634 - accuracy: 0.9798 - val_loss: 10.2800 - val_accuracy: 0.9716\n",
      "Epoch 22/30\n",
      "60000/60000 - 19s - loss: 0.0628 - accuracy: 0.9796 - val_loss: 9.5641 - val_accuracy: 0.9722\n",
      "Epoch 23/30\n",
      "60000/60000 - 19s - loss: 0.0595 - accuracy: 0.9815 - val_loss: 8.9415 - val_accuracy: 0.9752\n",
      "Epoch 24/30\n",
      "60000/60000 - 19s - loss: 0.0578 - accuracy: 0.9820 - val_loss: 10.0452 - val_accuracy: 0.9714\n",
      "Epoch 25/30\n",
      "60000/60000 - 20s - loss: 0.0561 - accuracy: 0.9821 - val_loss: 8.8657 - val_accuracy: 0.9746\n",
      "Epoch 26/30\n",
      "60000/60000 - 26s - loss: 0.0554 - accuracy: 0.9820 - val_loss: 9.5478 - val_accuracy: 0.9738\n",
      "Epoch 27/30\n",
      "60000/60000 - 22s - loss: 0.0534 - accuracy: 0.9829 - val_loss: 7.3034 - val_accuracy: 0.9802\n",
      "Epoch 28/30\n",
      "60000/60000 - 25s - loss: 0.0523 - accuracy: 0.9834 - val_loss: 7.4563 - val_accuracy: 0.9802\n",
      "Epoch 29/30\n",
      "60000/60000 - 24s - loss: 0.0513 - accuracy: 0.9834 - val_loss: 7.9656 - val_accuracy: 0.9770\n",
      "Epoch 30/30\n",
      "60000/60000 - 21s - loss: 0.0503 - accuracy: 0.9836 - val_loss: 8.3022 - val_accuracy: 0.9784\n"
     ]
    },
    {
     "data": {
      "text/plain": [
       "<tensorflow.python.keras.callbacks.History at 0x632d1abd0>"
      ]
     },
     "execution_count": 46,
     "metadata": {},
     "output_type": "execute_result"
    }
   ],
   "source": [
    "model.fit(X_train, y_train, validation_data=(X_test, y_test), epochs=30, batch_size=200, verbose=2)"
   ]
  },
  {
   "cell_type": "code",
   "execution_count": null,
   "metadata": {},
   "outputs": [],
   "source": [
    "# Optional Deep Model to Improve Accuracy\n",
    "'''\n",
    "x_train_deep_model = x_train.reshape((60000, 28, 28, 1)).astype(‘float32’)\n",
    "x_test_deep_model = x_test.reshape((10000, 28, 28, 1)).astype(‘float32’)\n",
    "deep_model = Sequential()\n",
    "deep_model.add(Conv2D(30, (5, 5), input_shape=(28, 28, 1), activation=’relu’))\n",
    "deep_model.add(MaxPooling2D())\n",
    "deep_model.add(Conv2D(15, (3, 3), activation=’relu’))\n",
    "deep_model.add(MaxPooling2D())\n",
    "deep_model.add(Dropout(0.2))\n",
    "deep_model.add(Flatten())\n",
    "deep_model.add(Dense(128, activation=’relu’))\n",
    "deep_model.add(Dense(50, activation=’relu’))\n",
    "deep_model.add(Dense(num_classes, activation=’softmax’))\n",
    "deep_model.compile(loss=’categorical_crossentropy’, optimizer=’adam’, metrics=[‘accuracy’])\n",
    "deep_model.fit(x_train_deep_model, y_train, validation_data=(x_test_deep_model, y_test), epochs=30, batch_size=200, verbose=2)\n",
    "'''"
   ]
  },
  {
   "cell_type": "code",
   "execution_count": 47,
   "metadata": {},
   "outputs": [],
   "source": [
    "# Converting Keras Model to Tensorflow.js"
   ]
  },
  {
   "cell_type": "code",
   "execution_count": 49,
   "metadata": {},
   "outputs": [],
   "source": [
    "# save the model into an HDF5 model for download\n",
    "model.save('model.h5')"
   ]
  },
  {
   "cell_type": "code",
   "execution_count": 56,
   "metadata": {},
   "outputs": [
    {
     "name": "stdout",
     "output_type": "stream",
     "text": [
      "/bin/sh: tensorflowjs_converter: command not found\r\n"
     ]
    }
   ],
   "source": [
    "# !pip install tensorflowjs\n",
    "!tensorflowjs_converter --input_format keras '/content/model.h5' '/content/model'"
   ]
  },
  {
   "cell_type": "code",
   "execution_count": 58,
   "metadata": {},
   "outputs": [
    {
     "data": {
      "text/plain": [
       "'TensorFlow.js needs to be pointed at the JSON file (model.json) and expects a sibling file called “group1-shard1of1.bin”. You need these two files. Download both files. Both of these files are in a folder titled model.'"
      ]
     },
     "execution_count": 58,
     "metadata": {},
     "output_type": "execute_result"
    }
   ],
   "source": [
    "'''TensorFlow.js needs to be pointed at the JSON file (model.json) and expects a sibling file called “group1-shard1of1.bin”. You need these two files. Download both files. Both of these files are in a folder titled model.'''"
   ]
  },
  {
   "cell_type": "code",
   "execution_count": 59,
   "metadata": {},
   "outputs": [],
   "source": [
    "# HTML5 Canvas"
   ]
  },
  {
   "cell_type": "code",
   "execution_count": 60,
   "metadata": {},
   "outputs": [],
   "source": [
    "# Drawing code from: https://www.html5canvastutorials.com/labs/html5-canvas-paint-application/"
   ]
  },
  {
   "cell_type": "code",
   "execution_count": null,
   "metadata": {},
   "outputs": [],
   "source": [
    "# Hooking It Up"
   ]
  }
 ],
 "metadata": {
  "kernelspec": {
   "display_name": "Python 3",
   "language": "python",
   "name": "python3"
  },
  "language_info": {
   "codemirror_mode": {
    "name": "ipython",
    "version": 3
   },
   "file_extension": ".py",
   "mimetype": "text/x-python",
   "name": "python",
   "nbconvert_exporter": "python",
   "pygments_lexer": "ipython3",
   "version": "3.7.4"
  }
 },
 "nbformat": 4,
 "nbformat_minor": 2
}
