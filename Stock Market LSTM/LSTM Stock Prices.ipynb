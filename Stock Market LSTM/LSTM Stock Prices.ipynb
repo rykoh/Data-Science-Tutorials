{
 "cells": [
  {
   "cell_type": "code",
   "execution_count": 1,
   "metadata": {},
   "outputs": [],
   "source": [
    "# https://towardsdatascience.com/using-lstms-to-predict-stock-prices-a9965dfec2c9"
   ]
  },
  {
   "cell_type": "code",
   "execution_count": 7,
   "metadata": {},
   "outputs": [
    {
     "name": "stderr",
     "output_type": "stream",
     "text": [
      "Using TensorFlow backend.\n"
     ]
    }
   ],
   "source": [
    "import numpy as np\n",
    "import pandas as pd\n",
    "import matplotlib.pyplot as plt\n",
    "from keras import *\n",
    "from keras.callbacks import *\n",
    "import os\n",
    "from sklearn.preprocessing import MinMaxScaler"
   ]
  },
  {
   "cell_type": "code",
   "execution_count": null,
   "metadata": {},
   "outputs": [],
   "source": [
    "# Data"
   ]
  },
  {
   "cell_type": "code",
   "execution_count": 2,
   "metadata": {},
   "outputs": [
    {
     "data": {
      "text/plain": [
       "'The data that was used for this project was Apple’s stock price over the last 5 years. It was broken down into time steps of 10 minutes each. A neural network needs examples to train and needs labelled data, so the data was inputted in a specific way. The input was 50 timesteps and the label (which is what the neural network is trying to predict) is the 51st timestep. The neural network tries to predict the price at the next time step, and the data was created accordingly to train the neural network.'"
      ]
     },
     "execution_count": 2,
     "metadata": {},
     "output_type": "execute_result"
    }
   ],
   "source": [
    "'''The data that was used for this project was Apple’s stock price over the last 5 years. It was broken down into time steps of 10 minutes each. A neural network needs examples to train and needs labelled data, so the data was inputted in a specific way. The input was 50 timesteps and the label (which is what the neural network is trying to predict) is the 51st timestep. The neural network tries to predict the price at the next time step, and the data was created accordingly to train the neural network.'''"
   ]
  },
  {
   "cell_type": "code",
   "execution_count": 8,
   "metadata": {},
   "outputs": [],
   "source": [
    "data = pd.read_csv('AAPL_data.csv')"
   ]
  },
  {
   "cell_type": "code",
   "execution_count": 9,
   "metadata": {},
   "outputs": [],
   "source": [
    "open_data = data[\"open\"].values"
   ]
  },
  {
   "cell_type": "code",
   "execution_count": 10,
   "metadata": {},
   "outputs": [],
   "source": [
    "open_data = open_data.reshape(-1,1)"
   ]
  },
  {
   "cell_type": "code",
   "execution_count": 11,
   "metadata": {},
   "outputs": [],
   "source": [
    "scaler = MinMaxScaler(feature_range=(0,1))\n",
    "open_data = scaler.fit_transform(open_data)"
   ]
  },
  {
   "cell_type": "code",
   "execution_count": 12,
   "metadata": {},
   "outputs": [],
   "source": [
    "open_data.shape\n",
    "data_train = open_data[:1001]\n",
    "data_test = open_data[975:]"
   ]
  },
  {
   "cell_type": "code",
   "execution_count": 13,
   "metadata": {},
   "outputs": [],
   "source": [
    "#Creating X_test and Y_Test tensors\n",
    "x_train = []\n",
    "y_train = []\n",
    "\n",
    "for i in range(50,1001):\n",
    "  x_train.append(data_train[i-50:i])\n",
    "  y_train.append(data_train[i])\n",
    "x_train = np.asarray(x_train)\n",
    "y_train = np.asarray(y_train)"
   ]
  },
  {
   "cell_type": "code",
   "execution_count": 14,
   "metadata": {},
   "outputs": [],
   "source": [
    "#Creating X_test and Y_Test tensors\n",
    "x_test = []\n",
    "y_test = []\n",
    "\n",
    "for i in range(50,data_test.shape[0]):\n",
    "  x_test.append(data_test[i-50:i])\n",
    "  y_test.append(data_test[i])\n",
    "x_test = np.asarray(x_test)\n",
    "y_test = np.asarray(y_test)"
   ]
  },
  {
   "cell_type": "code",
   "execution_count": 3,
   "metadata": {},
   "outputs": [],
   "source": [
    "# Architecture"
   ]
  },
  {
   "cell_type": "code",
   "execution_count": 4,
   "metadata": {},
   "outputs": [
    {
     "data": {
      "text/plain": [
       "'I used a lot of LSTMs for this neural network. Each LSTM had 96 cells in it and returns the cell state into the next LSTM as input. In the end, it had 2 dense layers that took in the output of the LSTM layers and made sense of it. The last dense layer has one node in it, which indicates that it outputs one number, the predicted value of the next time step. It had over 1 million parameters it could optimize. The dropout layers were used to make sure that the neural network wasn’t just memorizing the data and the output. I know, all this work just to find the next value for the next timestep.'"
      ]
     },
     "execution_count": 4,
     "metadata": {},
     "output_type": "execute_result"
    }
   ],
   "source": [
    "'''I used a lot of LSTMs for this neural network. Each LSTM had 96 cells in it and returns the cell state into the next LSTM as input. In the end, it had 2 dense layers that took in the output of the LSTM layers and made sense of it. The last dense layer has one node in it, which indicates that it outputs one number, the predicted value of the next time step. It had over 1 million parameters it could optimize. The dropout layers were used to make sure that the neural network wasn’t just memorizing the data and the output. I know, all this work just to find the next value for the next timestep.'''"
   ]
  },
  {
   "cell_type": "code",
   "execution_count": null,
   "metadata": {},
   "outputs": [],
   "source": [
    "# Training"
   ]
  },
  {
   "cell_type": "code",
   "execution_count": null,
   "metadata": {},
   "outputs": [],
   "source": [
    "'''This model was trained using the popular Adam optimizer and MSE loss function. The loss function is how bad the model performed and the optimizer finds the minimum of the function, which are the best parameters for the network. It ran over 100 epochs and reached a loss < 0.00001 (it performs pretty good).'''"
   ]
  },
  {
   "cell_type": "code",
   "execution_count": 15,
   "metadata": {},
   "outputs": [],
   "source": [
    "model = Sequential([\n",
    "  layers.LSTM(units=96, return_sequences=True, input_shape=(50,1)),\n",
    "  layers.Dropout(0.2),\n",
    "  layers.LSTM(units=96, return_sequences=True),\n",
    "  layers.Dropout(0.2),\n",
    "  layers.LSTM(units=96, return_sequences=True),\n",
    "  layers.Dropout(0.2),\n",
    "  layers.LSTM(units=96, return_sequences=True),\n",
    "  layers.Dropout(0.2),\n",
    "  layers.LSTM(units=96, return_sequences=True),\n",
    "  layers.Dropout(0.2),\n",
    "  layers.LSTM(units=96),\n",
    "  layers.Dropout(0.2),\n",
    "  layers.Dense(1)\n",
    "])"
   ]
  },
  {
   "cell_type": "code",
   "execution_count": 16,
   "metadata": {},
   "outputs": [],
   "source": [
    "model.compile(loss=\"mean_squared_error\", optimizer=\"adam\")"
   ]
  },
  {
   "cell_type": "code",
   "execution_count": 17,
   "metadata": {},
   "outputs": [],
   "source": [
    "mcp_save = ModelCheckpoint('mdl_wts.hdf5', save_best_only=True, monitor='val_loss', mode='min')\n",
    "earlyStopping = EarlyStopping(monitor='val_loss', patience=10, verbose=0, mode='min')"
   ]
  },
  {
   "cell_type": "code",
   "execution_count": 18,
   "metadata": {},
   "outputs": [
    {
     "name": "stdout",
     "output_type": "stream",
     "text": [
      "Train on 808 samples, validate on 143 samples\n",
      "Epoch 1/100\n",
      "808/808 [==============================] - 8s 10ms/step - loss: 0.0228 - val_loss: 0.0040\n",
      "Epoch 2/100\n",
      "808/808 [==============================] - 5s 7ms/step - loss: 0.0045 - val_loss: 0.0016\n",
      "Epoch 3/100\n",
      "808/808 [==============================] - 6s 7ms/step - loss: 0.0037 - val_loss: 0.0016\n",
      "Epoch 4/100\n",
      "808/808 [==============================] - 5s 7ms/step - loss: 0.0029 - val_loss: 0.0014\n",
      "Epoch 5/100\n",
      "808/808 [==============================] - 6s 7ms/step - loss: 0.0029 - val_loss: 0.0038\n",
      "Epoch 6/100\n",
      "808/808 [==============================] - 6s 7ms/step - loss: 0.0034 - val_loss: 0.0016\n",
      "Epoch 7/100\n",
      "808/808 [==============================] - 6s 7ms/step - loss: 0.0031 - val_loss: 0.0010\n",
      "Epoch 8/100\n",
      "808/808 [==============================] - 6s 7ms/step - loss: 0.0026 - val_loss: 0.0022\n",
      "Epoch 9/100\n",
      "808/808 [==============================] - 5s 7ms/step - loss: 0.0025 - val_loss: 0.0018\n",
      "Epoch 10/100\n",
      "808/808 [==============================] - 5s 6ms/step - loss: 0.0023 - val_loss: 0.0014\n",
      "Epoch 11/100\n",
      "808/808 [==============================] - 7s 8ms/step - loss: 0.0022 - val_loss: 0.0042\n",
      "Epoch 12/100\n",
      "808/808 [==============================] - 6s 7ms/step - loss: 0.0024 - val_loss: 0.0020\n",
      "Epoch 13/100\n",
      "808/808 [==============================] - 6s 7ms/step - loss: 0.0025 - val_loss: 9.4122e-04\n",
      "Epoch 14/100\n",
      "808/808 [==============================] - 6s 7ms/step - loss: 0.0022 - val_loss: 0.0019\n",
      "Epoch 15/100\n",
      "808/808 [==============================] - 7s 8ms/step - loss: 0.0021 - val_loss: 0.0012\n",
      "Epoch 16/100\n",
      "808/808 [==============================] - 5s 7ms/step - loss: 0.0020 - val_loss: 0.0011\n",
      "Epoch 17/100\n",
      "808/808 [==============================] - 5s 6ms/step - loss: 0.0020 - val_loss: 6.0844e-04\n",
      "Epoch 18/100\n",
      "808/808 [==============================] - 5s 7ms/step - loss: 0.0022 - val_loss: 6.8731e-04\n",
      "Epoch 19/100\n",
      "808/808 [==============================] - 5s 6ms/step - loss: 0.0017 - val_loss: 0.0029\n",
      "Epoch 20/100\n",
      "808/808 [==============================] - 5s 6ms/step - loss: 0.0020 - val_loss: 7.4035e-04\n",
      "Epoch 21/100\n",
      "808/808 [==============================] - 5s 6ms/step - loss: 0.0016 - val_loss: 9.3536e-04\n",
      "Epoch 22/100\n",
      "808/808 [==============================] - 5s 6ms/step - loss: 0.0017 - val_loss: 0.0010\n",
      "Epoch 23/100\n",
      "808/808 [==============================] - 5s 6ms/step - loss: 0.0018 - val_loss: 6.7977e-04\n",
      "Epoch 24/100\n",
      "808/808 [==============================] - 5s 6ms/step - loss: 0.0014 - val_loss: 5.8603e-04\n",
      "Epoch 25/100\n",
      "808/808 [==============================] - 5s 6ms/step - loss: 0.0019 - val_loss: 6.2494e-04\n",
      "Epoch 26/100\n",
      "808/808 [==============================] - 5s 6ms/step - loss: 0.0014 - val_loss: 8.9005e-04\n",
      "Epoch 27/100\n",
      "808/808 [==============================] - 5s 6ms/step - loss: 0.0020 - val_loss: 9.0355e-04\n",
      "Epoch 28/100\n",
      "808/808 [==============================] - 5s 6ms/step - loss: 0.0016 - val_loss: 6.4407e-04\n",
      "Epoch 29/100\n",
      "808/808 [==============================] - 5s 6ms/step - loss: 0.0017 - val_loss: 6.6764e-04\n",
      "Epoch 30/100\n",
      "808/808 [==============================] - 5s 6ms/step - loss: 0.0017 - val_loss: 8.4808e-04\n",
      "Epoch 31/100\n",
      "808/808 [==============================] - 5s 6ms/step - loss: 0.0017 - val_loss: 0.0011\n",
      "Epoch 32/100\n",
      "808/808 [==============================] - 5s 6ms/step - loss: 0.0013 - val_loss: 7.1643e-04\n",
      "Epoch 33/100\n",
      "808/808 [==============================] - 5s 6ms/step - loss: 0.0014 - val_loss: 6.3110e-04\n",
      "Epoch 34/100\n",
      "808/808 [==============================] - 5s 6ms/step - loss: 0.0014 - val_loss: 7.7120e-04\n"
     ]
    },
    {
     "data": {
      "text/plain": [
       "<keras.callbacks.callbacks.History at 0x1394c1cd0>"
      ]
     },
     "execution_count": 18,
     "metadata": {},
     "output_type": "execute_result"
    }
   ],
   "source": [
    "model.fit(x_train,y_train, epochs=100, batch_size=32, validation_split=0.15, callbacks=[mcp_save,earlyStopping])"
   ]
  },
  {
   "cell_type": "code",
   "execution_count": 20,
   "metadata": {},
   "outputs": [],
   "source": [
    "from tensorflow.keras.models import load_model\n",
    "prediction_model = load_model('mdl_wts.hdf5')"
   ]
  },
  {
   "cell_type": "code",
   "execution_count": 21,
   "metadata": {},
   "outputs": [
    {
     "data": {
      "text/plain": [
       "<matplotlib.legend.Legend at 0x13a7e2c50>"
      ]
     },
     "execution_count": 21,
     "metadata": {},
     "output_type": "execute_result"
    },
    {
     "data": {
      "image/png": "[encoded data removed]",
      "text/plain": [
       "<Figure size 576x288 with 1 Axes>"
      ]
     },
     "metadata": {
      "needs_background": "light"
     },
     "output_type": "display_data"
    }
   ],
   "source": [
    "predictions = prediction_model.predict(x_test)\n",
    "predictions = scaler.inverse_transform(predictions)\n",
    "open_data = scaler.inverse_transform(open_data)\n",
    "\n",
    "fig, ax = plt.subplots(figsize=(8,4))\n",
    "plt.plot(open_data, color=\"red\", label=\"True Price of Stock\")\n",
    "ax.plot(range(len(y_train)+50,len(y_train)+50+len(predictions)),predictions, color='blue', label='Predicted Testing Price')\n",
    "plt.legend()"
   ]
  },
  {
   "cell_type": "code",
   "execution_count": null,
   "metadata": {},
   "outputs": [],
   "source": []
  }
 ],
 "metadata": {
  "kernelspec": {
   "display_name": "Python 3",
   "language": "python",
   "name": "python3"
  },
  "language_info": {
   "codemirror_mode": {
    "name": "ipython",
    "version": 3
   },
   "file_extension": ".py",
   "mimetype": "text/x-python",
   "name": "python",
   "nbconvert_exporter": "python",
   "pygments_lexer": "ipython3",
   "version": "3.7.4"
  }
 },
 "nbformat": 4,
 "nbformat_minor": 2
}
